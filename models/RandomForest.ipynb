{
 "cells": [
  {
   "cell_type": "code",
   "execution_count": 1,
   "metadata": {},
   "outputs": [],
   "source": [
    "# Update sklearn to prevent version mismatches, uncomment if update is required\n",
    "#!pip install sklearn --upgrade"
   ]
  },
  {
   "cell_type": "code",
   "execution_count": 2,
   "metadata": {},
   "outputs": [],
   "source": [
    "# install joblib. This will be used to save your model, uncomment if update is required\n",
    "# Restart your kernel after installing \n",
    "#!pip install joblib"
   ]
  },
  {
   "cell_type": "code",
   "execution_count": 3,
   "metadata": {},
   "outputs": [],
   "source": [
    "# Import dependencies\n",
    "import pandas as pd"
   ]
  },
  {
   "cell_type": "markdown",
   "metadata": {},
   "source": [
    "# Read the CSV and Perform Basic Data Cleaning"
   ]
  },
  {
   "cell_type": "code",
   "execution_count": 4,
   "metadata": {},
   "outputs": [
    {
     "output_type": "execute_result",
     "data": {
      "text/plain": [
       "     koi_disposition  koi_fpflag_nt  koi_fpflag_ss  koi_fpflag_co  \\\n",
       "0          CONFIRMED              0              0              0   \n",
       "1     FALSE POSITIVE              0              1              0   \n",
       "2     FALSE POSITIVE              0              1              0   \n",
       "3          CONFIRMED              0              0              0   \n",
       "4          CONFIRMED              0              0              0   \n",
       "...              ...            ...            ...            ...   \n",
       "6986  FALSE POSITIVE              0              0              0   \n",
       "6987  FALSE POSITIVE              0              1              1   \n",
       "6988       CANDIDATE              0              0              0   \n",
       "6989  FALSE POSITIVE              0              0              1   \n",
       "6990  FALSE POSITIVE              0              0              1   \n",
       "\n",
       "      koi_fpflag_ec  koi_period  koi_period_err1  koi_period_err2  \\\n",
       "0                 0   54.418383     2.479000e-04    -2.479000e-04   \n",
       "1                 0   19.899140     1.490000e-05    -1.490000e-05   \n",
       "2                 0    1.736952     2.630000e-07    -2.630000e-07   \n",
       "3                 0    2.525592     3.760000e-06    -3.760000e-06   \n",
       "4                 0    4.134435     1.050000e-05    -1.050000e-05   \n",
       "...             ...         ...              ...              ...   \n",
       "6986              1    8.589871     1.846000e-04    -1.846000e-04   \n",
       "6987              0    0.527699     1.160000e-07    -1.160000e-07   \n",
       "6988              0    1.739849     1.780000e-05    -1.780000e-05   \n",
       "6989              0    0.681402     2.430000e-06    -2.430000e-06   \n",
       "6990              1    4.856035     6.360000e-05    -6.360000e-05   \n",
       "\n",
       "      koi_time0bk  koi_time0bk_err1  ...  koi_steff_err2  koi_slogg  \\\n",
       "0      162.513840          0.003520  ...             -81      4.467   \n",
       "1      175.850252          0.000581  ...            -176      4.544   \n",
       "2      170.307565          0.000115  ...            -174      4.564   \n",
       "3      171.595550          0.001130  ...            -211      4.438   \n",
       "4      172.979370          0.001900  ...            -232      4.486   \n",
       "...           ...               ...  ...             ...        ...   \n",
       "6986   132.016100          0.015700  ...            -152      4.296   \n",
       "6987   131.705093          0.000170  ...            -166      4.529   \n",
       "6988   133.001270          0.007690  ...            -220      4.444   \n",
       "6989   132.181750          0.002850  ...            -236      4.447   \n",
       "6990   135.993300          0.010800  ...            -225      4.385   \n",
       "\n",
       "      koi_slogg_err1  koi_slogg_err2  koi_srad  koi_srad_err1  koi_srad_err2  \\\n",
       "0              0.064          -0.096     0.927          0.105         -0.061   \n",
       "1              0.044          -0.176     0.868          0.233         -0.078   \n",
       "2              0.053          -0.168     0.791          0.201         -0.067   \n",
       "3              0.070          -0.210     1.046          0.334         -0.133   \n",
       "4              0.054          -0.229     0.972          0.315         -0.105   \n",
       "...              ...             ...       ...            ...            ...   \n",
       "6986           0.231          -0.189     1.088          0.313         -0.228   \n",
       "6987           0.035          -0.196     0.903          0.237         -0.079   \n",
       "6988           0.056          -0.224     1.031          0.341         -0.114   \n",
       "6989           0.056          -0.224     1.041          0.341         -0.114   \n",
       "6990           0.054          -0.216     1.193          0.410         -0.137   \n",
       "\n",
       "             ra        dec  koi_kepmag  \n",
       "0     291.93423  48.141651      15.347  \n",
       "1     297.00482  48.134129      15.436  \n",
       "2     285.53461  48.285210      15.597  \n",
       "3     288.75488  48.226200      15.509  \n",
       "4     296.28613  48.224670      15.714  \n",
       "...         ...        ...         ...  \n",
       "6986  298.74921  46.973351      14.478  \n",
       "6987  297.18875  47.093819      14.082  \n",
       "6988  286.50937  47.163219      14.757  \n",
       "6989  294.16489  47.176281      15.385  \n",
       "6990  297.00977  47.121021      14.826  \n",
       "\n",
       "[6991 rows x 41 columns]"
      ],
      "text/html": "<div>\n<style scoped>\n    .dataframe tbody tr th:only-of-type {\n        vertical-align: middle;\n    }\n\n    .dataframe tbody tr th {\n        vertical-align: top;\n    }\n\n    .dataframe thead th {\n        text-align: right;\n    }\n</style>\n<table border=\"1\" class=\"dataframe\">\n  <thead>\n    <tr style=\"text-align: right;\">\n      <th></th>\n      <th>koi_disposition</th>\n      <th>koi_fpflag_nt</th>\n      <th>koi_fpflag_ss</th>\n      <th>koi_fpflag_co</th>\n      <th>koi_fpflag_ec</th>\n      <th>koi_period</th>\n      <th>koi_period_err1</th>\n      <th>koi_period_err2</th>\n      <th>koi_time0bk</th>\n      <th>koi_time0bk_err1</th>\n      <th>...</th>\n      <th>koi_steff_err2</th>\n      <th>koi_slogg</th>\n      <th>koi_slogg_err1</th>\n      <th>koi_slogg_err2</th>\n      <th>koi_srad</th>\n      <th>koi_srad_err1</th>\n      <th>koi_srad_err2</th>\n      <th>ra</th>\n      <th>dec</th>\n      <th>koi_kepmag</th>\n    </tr>\n  </thead>\n  <tbody>\n    <tr>\n      <th>0</th>\n      <td>CONFIRMED</td>\n      <td>0</td>\n      <td>0</td>\n      <td>0</td>\n      <td>0</td>\n      <td>54.418383</td>\n      <td>2.479000e-04</td>\n      <td>-2.479000e-04</td>\n      <td>162.513840</td>\n      <td>0.003520</td>\n      <td>...</td>\n      <td>-81</td>\n      <td>4.467</td>\n      <td>0.064</td>\n      <td>-0.096</td>\n      <td>0.927</td>\n      <td>0.105</td>\n      <td>-0.061</td>\n      <td>291.93423</td>\n      <td>48.141651</td>\n      <td>15.347</td>\n    </tr>\n    <tr>\n      <th>1</th>\n      <td>FALSE POSITIVE</td>\n      <td>0</td>\n      <td>1</td>\n      <td>0</td>\n      <td>0</td>\n      <td>19.899140</td>\n      <td>1.490000e-05</td>\n      <td>-1.490000e-05</td>\n      <td>175.850252</td>\n      <td>0.000581</td>\n      <td>...</td>\n      <td>-176</td>\n      <td>4.544</td>\n      <td>0.044</td>\n      <td>-0.176</td>\n      <td>0.868</td>\n      <td>0.233</td>\n      <td>-0.078</td>\n      <td>297.00482</td>\n      <td>48.134129</td>\n      <td>15.436</td>\n    </tr>\n    <tr>\n      <th>2</th>\n      <td>FALSE POSITIVE</td>\n      <td>0</td>\n      <td>1</td>\n      <td>0</td>\n      <td>0</td>\n      <td>1.736952</td>\n      <td>2.630000e-07</td>\n      <td>-2.630000e-07</td>\n      <td>170.307565</td>\n      <td>0.000115</td>\n      <td>...</td>\n      <td>-174</td>\n      <td>4.564</td>\n      <td>0.053</td>\n      <td>-0.168</td>\n      <td>0.791</td>\n      <td>0.201</td>\n      <td>-0.067</td>\n      <td>285.53461</td>\n      <td>48.285210</td>\n      <td>15.597</td>\n    </tr>\n    <tr>\n      <th>3</th>\n      <td>CONFIRMED</td>\n      <td>0</td>\n      <td>0</td>\n      <td>0</td>\n      <td>0</td>\n      <td>2.525592</td>\n      <td>3.760000e-06</td>\n      <td>-3.760000e-06</td>\n      <td>171.595550</td>\n      <td>0.001130</td>\n      <td>...</td>\n      <td>-211</td>\n      <td>4.438</td>\n      <td>0.070</td>\n      <td>-0.210</td>\n      <td>1.046</td>\n      <td>0.334</td>\n      <td>-0.133</td>\n      <td>288.75488</td>\n      <td>48.226200</td>\n      <td>15.509</td>\n    </tr>\n    <tr>\n      <th>4</th>\n      <td>CONFIRMED</td>\n      <td>0</td>\n      <td>0</td>\n      <td>0</td>\n      <td>0</td>\n      <td>4.134435</td>\n      <td>1.050000e-05</td>\n      <td>-1.050000e-05</td>\n      <td>172.979370</td>\n      <td>0.001900</td>\n      <td>...</td>\n      <td>-232</td>\n      <td>4.486</td>\n      <td>0.054</td>\n      <td>-0.229</td>\n      <td>0.972</td>\n      <td>0.315</td>\n      <td>-0.105</td>\n      <td>296.28613</td>\n      <td>48.224670</td>\n      <td>15.714</td>\n    </tr>\n    <tr>\n      <th>...</th>\n      <td>...</td>\n      <td>...</td>\n      <td>...</td>\n      <td>...</td>\n      <td>...</td>\n      <td>...</td>\n      <td>...</td>\n      <td>...</td>\n      <td>...</td>\n      <td>...</td>\n      <td>...</td>\n      <td>...</td>\n      <td>...</td>\n      <td>...</td>\n      <td>...</td>\n      <td>...</td>\n      <td>...</td>\n      <td>...</td>\n      <td>...</td>\n      <td>...</td>\n      <td>...</td>\n    </tr>\n    <tr>\n      <th>6986</th>\n      <td>FALSE POSITIVE</td>\n      <td>0</td>\n      <td>0</td>\n      <td>0</td>\n      <td>1</td>\n      <td>8.589871</td>\n      <td>1.846000e-04</td>\n      <td>-1.846000e-04</td>\n      <td>132.016100</td>\n      <td>0.015700</td>\n      <td>...</td>\n      <td>-152</td>\n      <td>4.296</td>\n      <td>0.231</td>\n      <td>-0.189</td>\n      <td>1.088</td>\n      <td>0.313</td>\n      <td>-0.228</td>\n      <td>298.74921</td>\n      <td>46.973351</td>\n      <td>14.478</td>\n    </tr>\n    <tr>\n      <th>6987</th>\n      <td>FALSE POSITIVE</td>\n      <td>0</td>\n      <td>1</td>\n      <td>1</td>\n      <td>0</td>\n      <td>0.527699</td>\n      <td>1.160000e-07</td>\n      <td>-1.160000e-07</td>\n      <td>131.705093</td>\n      <td>0.000170</td>\n      <td>...</td>\n      <td>-166</td>\n      <td>4.529</td>\n      <td>0.035</td>\n      <td>-0.196</td>\n      <td>0.903</td>\n      <td>0.237</td>\n      <td>-0.079</td>\n      <td>297.18875</td>\n      <td>47.093819</td>\n      <td>14.082</td>\n    </tr>\n    <tr>\n      <th>6988</th>\n      <td>CANDIDATE</td>\n      <td>0</td>\n      <td>0</td>\n      <td>0</td>\n      <td>0</td>\n      <td>1.739849</td>\n      <td>1.780000e-05</td>\n      <td>-1.780000e-05</td>\n      <td>133.001270</td>\n      <td>0.007690</td>\n      <td>...</td>\n      <td>-220</td>\n      <td>4.444</td>\n      <td>0.056</td>\n      <td>-0.224</td>\n      <td>1.031</td>\n      <td>0.341</td>\n      <td>-0.114</td>\n      <td>286.50937</td>\n      <td>47.163219</td>\n      <td>14.757</td>\n    </tr>\n    <tr>\n      <th>6989</th>\n      <td>FALSE POSITIVE</td>\n      <td>0</td>\n      <td>0</td>\n      <td>1</td>\n      <td>0</td>\n      <td>0.681402</td>\n      <td>2.430000e-06</td>\n      <td>-2.430000e-06</td>\n      <td>132.181750</td>\n      <td>0.002850</td>\n      <td>...</td>\n      <td>-236</td>\n      <td>4.447</td>\n      <td>0.056</td>\n      <td>-0.224</td>\n      <td>1.041</td>\n      <td>0.341</td>\n      <td>-0.114</td>\n      <td>294.16489</td>\n      <td>47.176281</td>\n      <td>15.385</td>\n    </tr>\n    <tr>\n      <th>6990</th>\n      <td>FALSE POSITIVE</td>\n      <td>0</td>\n      <td>0</td>\n      <td>1</td>\n      <td>1</td>\n      <td>4.856035</td>\n      <td>6.360000e-05</td>\n      <td>-6.360000e-05</td>\n      <td>135.993300</td>\n      <td>0.010800</td>\n      <td>...</td>\n      <td>-225</td>\n      <td>4.385</td>\n      <td>0.054</td>\n      <td>-0.216</td>\n      <td>1.193</td>\n      <td>0.410</td>\n      <td>-0.137</td>\n      <td>297.00977</td>\n      <td>47.121021</td>\n      <td>14.826</td>\n    </tr>\n  </tbody>\n</table>\n<p>6991 rows × 41 columns</p>\n</div>"
     },
     "metadata": {},
     "execution_count": 4
    }
   ],
   "source": [
    "# Read in the data\n",
    "df = pd.read_csv(\"../data/exoplanet_data.csv\")\n",
    "\n",
    "# Drop the null columns where all values are null\n",
    "df = df.dropna(axis='columns', how='all')\n",
    "\n",
    "# Drop the null rows\n",
    "df = df.dropna()\n",
    "\n",
    "df"
   ]
  },
  {
   "cell_type": "markdown",
   "metadata": {},
   "source": [
    "# Select your features (columns)\n",
    "\n",
    "Use `koi_disposition` for the y values"
   ]
  },
  {
   "cell_type": "code",
   "execution_count": 5,
   "metadata": {},
   "outputs": [
    {
     "output_type": "execute_result",
     "data": {
      "text/plain": [
       "     koi_disposition  koi_fpflag_nt  koi_fpflag_ss  koi_fpflag_co  \\\n",
       "0          CONFIRMED              0              0              0   \n",
       "1     FALSE POSITIVE              0              1              0   \n",
       "2     FALSE POSITIVE              0              1              0   \n",
       "3          CONFIRMED              0              0              0   \n",
       "4          CONFIRMED              0              0              0   \n",
       "...              ...            ...            ...            ...   \n",
       "6986  FALSE POSITIVE              0              0              0   \n",
       "6987  FALSE POSITIVE              0              1              1   \n",
       "6988       CANDIDATE              0              0              0   \n",
       "6989  FALSE POSITIVE              0              0              1   \n",
       "6990  FALSE POSITIVE              0              0              1   \n",
       "\n",
       "      koi_fpflag_ec  koi_period  koi_time0bk  koi_impact  koi_duration  \\\n",
       "0                 0   54.418383   162.513840       0.586       4.50700   \n",
       "1                 0   19.899140   175.850252       0.969       1.78220   \n",
       "2                 0    1.736952   170.307565       1.276       2.40641   \n",
       "3                 0    2.525592   171.595550       0.701       1.65450   \n",
       "4                 0    4.134435   172.979370       0.762       3.14020   \n",
       "...             ...         ...          ...         ...           ...   \n",
       "6986              1    8.589871   132.016100       0.765       4.80600   \n",
       "6987              0    0.527699   131.705093       1.252       3.22210   \n",
       "6988              0    1.739849   133.001270       0.043       3.11400   \n",
       "6989              0    0.681402   132.181750       0.147       0.86500   \n",
       "6990              1    4.856035   135.993300       0.134       3.07800   \n",
       "\n",
       "      koi_depth  ...  koi_teq  koi_insol  koi_model_snr  koi_tce_plnt_num  \\\n",
       "0         874.8  ...      443       9.11           25.8                 2   \n",
       "1       10829.0  ...      638      39.30           76.3                 1   \n",
       "2        8079.2  ...     1395     891.96          505.6                 1   \n",
       "3         603.3  ...     1406     926.16           40.9                 1   \n",
       "4         686.0  ...     1160     427.65           40.2                 2   \n",
       "...         ...  ...      ...        ...            ...               ...   \n",
       "6986       87.7  ...      929     176.40            8.4                 1   \n",
       "6987     1579.2  ...     2088    4500.53          453.3                 1   \n",
       "6988       48.5  ...     1608    1585.81           10.6                 1   \n",
       "6989      103.6  ...     2218    5713.41           12.3                 1   \n",
       "6990       76.7  ...     1266     607.42            8.2                 1   \n",
       "\n",
       "      koi_steff  koi_slogg  koi_srad         ra        dec  koi_kepmag  \n",
       "0          5455      4.467     0.927  291.93423  48.141651      15.347  \n",
       "1          5853      4.544     0.868  297.00482  48.134129      15.436  \n",
       "2          5805      4.564     0.791  285.53461  48.285210      15.597  \n",
       "3          6031      4.438     1.046  288.75488  48.226200      15.509  \n",
       "4          6046      4.486     0.972  296.28613  48.224670      15.714  \n",
       "...         ...        ...       ...        ...        ...         ...  \n",
       "6986       5638      4.296     1.088  298.74921  46.973351      14.478  \n",
       "6987       5638      4.529     0.903  297.18875  47.093819      14.082  \n",
       "6988       6119      4.444     1.031  286.50937  47.163219      14.757  \n",
       "6989       6173      4.447     1.041  294.16489  47.176281      15.385  \n",
       "6990       6469      4.385     1.193  297.00977  47.121021      14.826  \n",
       "\n",
       "[6991 rows x 21 columns]"
      ],
      "text/html": "<div>\n<style scoped>\n    .dataframe tbody tr th:only-of-type {\n        vertical-align: middle;\n    }\n\n    .dataframe tbody tr th {\n        vertical-align: top;\n    }\n\n    .dataframe thead th {\n        text-align: right;\n    }\n</style>\n<table border=\"1\" class=\"dataframe\">\n  <thead>\n    <tr style=\"text-align: right;\">\n      <th></th>\n      <th>koi_disposition</th>\n      <th>koi_fpflag_nt</th>\n      <th>koi_fpflag_ss</th>\n      <th>koi_fpflag_co</th>\n      <th>koi_fpflag_ec</th>\n      <th>koi_period</th>\n      <th>koi_time0bk</th>\n      <th>koi_impact</th>\n      <th>koi_duration</th>\n      <th>koi_depth</th>\n      <th>...</th>\n      <th>koi_teq</th>\n      <th>koi_insol</th>\n      <th>koi_model_snr</th>\n      <th>koi_tce_plnt_num</th>\n      <th>koi_steff</th>\n      <th>koi_slogg</th>\n      <th>koi_srad</th>\n      <th>ra</th>\n      <th>dec</th>\n      <th>koi_kepmag</th>\n    </tr>\n  </thead>\n  <tbody>\n    <tr>\n      <th>0</th>\n      <td>CONFIRMED</td>\n      <td>0</td>\n      <td>0</td>\n      <td>0</td>\n      <td>0</td>\n      <td>54.418383</td>\n      <td>162.513840</td>\n      <td>0.586</td>\n      <td>4.50700</td>\n      <td>874.8</td>\n      <td>...</td>\n      <td>443</td>\n      <td>9.11</td>\n      <td>25.8</td>\n      <td>2</td>\n      <td>5455</td>\n      <td>4.467</td>\n      <td>0.927</td>\n      <td>291.93423</td>\n      <td>48.141651</td>\n      <td>15.347</td>\n    </tr>\n    <tr>\n      <th>1</th>\n      <td>FALSE POSITIVE</td>\n      <td>0</td>\n      <td>1</td>\n      <td>0</td>\n      <td>0</td>\n      <td>19.899140</td>\n      <td>175.850252</td>\n      <td>0.969</td>\n      <td>1.78220</td>\n      <td>10829.0</td>\n      <td>...</td>\n      <td>638</td>\n      <td>39.30</td>\n      <td>76.3</td>\n      <td>1</td>\n      <td>5853</td>\n      <td>4.544</td>\n      <td>0.868</td>\n      <td>297.00482</td>\n      <td>48.134129</td>\n      <td>15.436</td>\n    </tr>\n    <tr>\n      <th>2</th>\n      <td>FALSE POSITIVE</td>\n      <td>0</td>\n      <td>1</td>\n      <td>0</td>\n      <td>0</td>\n      <td>1.736952</td>\n      <td>170.307565</td>\n      <td>1.276</td>\n      <td>2.40641</td>\n      <td>8079.2</td>\n      <td>...</td>\n      <td>1395</td>\n      <td>891.96</td>\n      <td>505.6</td>\n      <td>1</td>\n      <td>5805</td>\n      <td>4.564</td>\n      <td>0.791</td>\n      <td>285.53461</td>\n      <td>48.285210</td>\n      <td>15.597</td>\n    </tr>\n    <tr>\n      <th>3</th>\n      <td>CONFIRMED</td>\n      <td>0</td>\n      <td>0</td>\n      <td>0</td>\n      <td>0</td>\n      <td>2.525592</td>\n      <td>171.595550</td>\n      <td>0.701</td>\n      <td>1.65450</td>\n      <td>603.3</td>\n      <td>...</td>\n      <td>1406</td>\n      <td>926.16</td>\n      <td>40.9</td>\n      <td>1</td>\n      <td>6031</td>\n      <td>4.438</td>\n      <td>1.046</td>\n      <td>288.75488</td>\n      <td>48.226200</td>\n      <td>15.509</td>\n    </tr>\n    <tr>\n      <th>4</th>\n      <td>CONFIRMED</td>\n      <td>0</td>\n      <td>0</td>\n      <td>0</td>\n      <td>0</td>\n      <td>4.134435</td>\n      <td>172.979370</td>\n      <td>0.762</td>\n      <td>3.14020</td>\n      <td>686.0</td>\n      <td>...</td>\n      <td>1160</td>\n      <td>427.65</td>\n      <td>40.2</td>\n      <td>2</td>\n      <td>6046</td>\n      <td>4.486</td>\n      <td>0.972</td>\n      <td>296.28613</td>\n      <td>48.224670</td>\n      <td>15.714</td>\n    </tr>\n    <tr>\n      <th>...</th>\n      <td>...</td>\n      <td>...</td>\n      <td>...</td>\n      <td>...</td>\n      <td>...</td>\n      <td>...</td>\n      <td>...</td>\n      <td>...</td>\n      <td>...</td>\n      <td>...</td>\n      <td>...</td>\n      <td>...</td>\n      <td>...</td>\n      <td>...</td>\n      <td>...</td>\n      <td>...</td>\n      <td>...</td>\n      <td>...</td>\n      <td>...</td>\n      <td>...</td>\n      <td>...</td>\n    </tr>\n    <tr>\n      <th>6986</th>\n      <td>FALSE POSITIVE</td>\n      <td>0</td>\n      <td>0</td>\n      <td>0</td>\n      <td>1</td>\n      <td>8.589871</td>\n      <td>132.016100</td>\n      <td>0.765</td>\n      <td>4.80600</td>\n      <td>87.7</td>\n      <td>...</td>\n      <td>929</td>\n      <td>176.40</td>\n      <td>8.4</td>\n      <td>1</td>\n      <td>5638</td>\n      <td>4.296</td>\n      <td>1.088</td>\n      <td>298.74921</td>\n      <td>46.973351</td>\n      <td>14.478</td>\n    </tr>\n    <tr>\n      <th>6987</th>\n      <td>FALSE POSITIVE</td>\n      <td>0</td>\n      <td>1</td>\n      <td>1</td>\n      <td>0</td>\n      <td>0.527699</td>\n      <td>131.705093</td>\n      <td>1.252</td>\n      <td>3.22210</td>\n      <td>1579.2</td>\n      <td>...</td>\n      <td>2088</td>\n      <td>4500.53</td>\n      <td>453.3</td>\n      <td>1</td>\n      <td>5638</td>\n      <td>4.529</td>\n      <td>0.903</td>\n      <td>297.18875</td>\n      <td>47.093819</td>\n      <td>14.082</td>\n    </tr>\n    <tr>\n      <th>6988</th>\n      <td>CANDIDATE</td>\n      <td>0</td>\n      <td>0</td>\n      <td>0</td>\n      <td>0</td>\n      <td>1.739849</td>\n      <td>133.001270</td>\n      <td>0.043</td>\n      <td>3.11400</td>\n      <td>48.5</td>\n      <td>...</td>\n      <td>1608</td>\n      <td>1585.81</td>\n      <td>10.6</td>\n      <td>1</td>\n      <td>6119</td>\n      <td>4.444</td>\n      <td>1.031</td>\n      <td>286.50937</td>\n      <td>47.163219</td>\n      <td>14.757</td>\n    </tr>\n    <tr>\n      <th>6989</th>\n      <td>FALSE POSITIVE</td>\n      <td>0</td>\n      <td>0</td>\n      <td>1</td>\n      <td>0</td>\n      <td>0.681402</td>\n      <td>132.181750</td>\n      <td>0.147</td>\n      <td>0.86500</td>\n      <td>103.6</td>\n      <td>...</td>\n      <td>2218</td>\n      <td>5713.41</td>\n      <td>12.3</td>\n      <td>1</td>\n      <td>6173</td>\n      <td>4.447</td>\n      <td>1.041</td>\n      <td>294.16489</td>\n      <td>47.176281</td>\n      <td>15.385</td>\n    </tr>\n    <tr>\n      <th>6990</th>\n      <td>FALSE POSITIVE</td>\n      <td>0</td>\n      <td>0</td>\n      <td>1</td>\n      <td>1</td>\n      <td>4.856035</td>\n      <td>135.993300</td>\n      <td>0.134</td>\n      <td>3.07800</td>\n      <td>76.7</td>\n      <td>...</td>\n      <td>1266</td>\n      <td>607.42</td>\n      <td>8.2</td>\n      <td>1</td>\n      <td>6469</td>\n      <td>4.385</td>\n      <td>1.193</td>\n      <td>297.00977</td>\n      <td>47.121021</td>\n      <td>14.826</td>\n    </tr>\n  </tbody>\n</table>\n<p>6991 rows × 21 columns</p>\n</div>"
     },
     "metadata": {},
     "execution_count": 5
    }
   ],
   "source": [
    "# Set features. This will also be used as your x values.\n",
    "\n",
    "# Clean up the data, remove columns that are not required/needed\n",
    "# Initially, it seems like the columns with uncertainties (_err1, _err2) may not be good features to include\n",
    "err1 = \"_err1\"\n",
    "err2 = \"_err2\"\n",
    "\n",
    "# Create a copy of the original dataframe\n",
    "new_df = df.copy()\n",
    "\n",
    "# For all columnd in the dataframe\n",
    "for x in range(len(df.columns)):\n",
    "    \n",
    "    # If \"_err1\" or \"_err2\" are in the column header/name, drop that column in the new dataframe\n",
    "    if err1 in df.columns[x] or err2 in df.columns[x]:\n",
    "        new_df = new_df.drop(df.columns[x], axis=1)\n",
    "new_df"
   ]
  },
  {
   "cell_type": "code",
   "execution_count": 6,
   "metadata": {},
   "outputs": [
    {
     "output_type": "stream",
     "name": "stdout",
     "text": [
      "(6991, 20) (6991, 1)\n"
     ]
    }
   ],
   "source": [
    "# Set the features for x and the target for y\n",
    "X = new_df.drop(\"koi_disposition\", axis=1)\n",
    "y = new_df[\"koi_disposition\"].values.reshape(-1, 1)\n",
    "\n",
    "# Print the shape of both to make sure it is the same\n",
    "print(X.shape, y.shape)"
   ]
  },
  {
   "cell_type": "markdown",
   "metadata": {},
   "source": [
    "# Create a Train Test Split"
   ]
  },
  {
   "cell_type": "code",
   "execution_count": 7,
   "metadata": {},
   "outputs": [],
   "source": [
    "# Import dependencies\n",
    "from sklearn.model_selection import train_test_split\n",
    "from sklearn.preprocessing import LabelEncoder\n",
    "\n",
    "# Use the label encoder to change the categorical target values into numeric values using mapping, example: confirmed = 0, false positive = 1, candidate = 2\n",
    "label_encoder = LabelEncoder()\n",
    "label_encoder.fit(y)\n",
    "y = label_encoder.transform(y)\n",
    "\n",
    "# Create the training and testing data with a random state for repeatability\n",
    "X_train, X_test, y_train, y_test = train_test_split(X, y, random_state=250)"
   ]
  },
  {
   "cell_type": "markdown",
   "metadata": {},
   "source": [
    "# Pre-processing and Training\n",
    "\n",
    "Scale the data using the MinMaxScaler and perform some feature selection"
   ]
  },
  {
   "cell_type": "code",
   "execution_count": 8,
   "metadata": {},
   "outputs": [
    {
     "output_type": "stream",
     "name": "stdout",
     "text": [
      "Training Score: 1.0\nTesting Score: 0.8958810068649885\n"
     ]
    }
   ],
   "source": [
    "# Import dependencies\n",
    "from sklearn.preprocessing import MinMaxScaler\n",
    "from sklearn.ensemble import RandomForestClassifier\n",
    "\n",
    "# Create a MinMaxScalar model and fit it to the training data\n",
    "X_scaler = MinMaxScaler().fit(X_train)\n",
    "\n",
    "# Transform the training and testing data with the scaler models\n",
    "X_train_scaled = X_scaler.transform(X_train)\n",
    "X_test_scaled = X_scaler.transform(X_test)\n",
    "\n",
    "# Use RandomForestClassifier to create a model with the training data and score the test data\n",
    "rf = RandomForestClassifier(n_estimators=200)\n",
    "rf.fit(X_train_scaled, y_train)\n",
    "\n",
    "print(f'Training Score: {rf.score(X_train_scaled, y_train)}')\n",
    "print(f'Testing Score: {rf.score(X_test_scaled, y_test)}')"
   ]
  },
  {
   "cell_type": "code",
   "execution_count": 9,
   "metadata": {},
   "outputs": [
    {
     "output_type": "execute_result",
     "data": {
      "text/plain": [
       "[(0.13161579832090747, 'koi_model_snr'),\n",
       " (0.1280068846390581, 'koi_fpflag_co'),\n",
       " (0.12695229031434335, 'koi_fpflag_nt'),\n",
       " (0.10829978395766783, 'koi_fpflag_ss'),\n",
       " (0.07061509256679084, 'koi_prad'),\n",
       " (0.051404787916938435, 'koi_depth'),\n",
       " (0.04406460341430325, 'koi_fpflag_ec'),\n",
       " (0.041409869262889615, 'koi_period'),\n",
       " (0.040246596862947515, 'koi_impact'),\n",
       " (0.036464802565089646, 'koi_teq'),\n",
       " (0.03174167794727144, 'koi_duration'),\n",
       " (0.0291006440195949, 'koi_time0bk'),\n",
       " (0.025681838705606377, 'koi_insol'),\n",
       " (0.022254200233893975, 'koi_steff'),\n",
       " (0.02183375819810256, 'ra'),\n",
       " (0.021146100633288346, 'koi_kepmag'),\n",
       " (0.0206474478946299, 'koi_srad'),\n",
       " (0.02058625896942758, 'koi_slogg'),\n",
       " (0.02054100575536139, 'dec'),\n",
       " (0.007386557821887476, 'koi_tce_plnt_num')]"
      ]
     },
     "metadata": {},
     "execution_count": 9
    }
   ],
   "source": [
    "# Sort the feature importance in descending value\n",
    "sorted(zip(rf.feature_importances_, X_train), reverse=True)"
   ]
  },
  {
   "cell_type": "code",
   "execution_count": 10,
   "metadata": {},
   "outputs": [
    {
     "output_type": "stream",
     "name": "stdout",
     "text": [
      "Training Score: 1.0\nTesting Score: 0.8964530892448512\n"
     ]
    }
   ],
   "source": [
    "# For comparison, let's bring in all the features in the data to see if our feature importance is similar or if we may need to make adjustments\n",
    "X_all = df.drop(\"koi_disposition\", axis=1)\n",
    "y_all = df[\"koi_disposition\"]\n",
    "\n",
    "label_encoder = LabelEncoder()\n",
    "label_encoder.fit(y_all)\n",
    "y_all = label_encoder.transform(y_all)\n",
    "\n",
    "X_train_all, X_test_all, y_train_all, y_test_all = train_test_split(X_all, y_all, random_state=250)\n",
    "\n",
    "X_scaler_all = MinMaxScaler().fit(X_train_all)\n",
    "\n",
    "# Transform the training and testing data with the scaler models\n",
    "X_train_scaled_all = X_scaler_all.transform(X_train_all)\n",
    "X_test_scaled_all = X_scaler_all.transform(X_test_all)\n",
    "\n",
    "# Use RandomForestClassifier to create a model with the training data and score the test data\n",
    "rf.fit(X_train_scaled_all, y_train_all)\n",
    "\n",
    "print(f'Training Score: {rf.score(X_train_scaled_all, y_train_all)}')\n",
    "print(f'Testing Score: {rf.score(X_test_scaled_all, y_test_all)}')"
   ]
  },
  {
   "cell_type": "code",
   "execution_count": 11,
   "metadata": {},
   "outputs": [
    {
     "output_type": "execute_result",
     "data": {
      "text/plain": [
       "[(0.10997085006330476, 'koi_fpflag_co'),\n",
       " (0.10056226489555789, 'koi_fpflag_nt'),\n",
       " (0.07821605561519744, 'koi_fpflag_ss'),\n",
       " (0.05653037576135076, 'koi_model_snr'),\n",
       " (0.04334745202796319, 'koi_prad'),\n",
       " (0.03464175625924082, 'koi_duration_err2'),\n",
       " (0.034246889389689186, 'koi_prad_err1'),\n",
       " (0.0326689334527591, 'koi_duration_err1'),\n",
       " (0.03162544917990199, 'koi_fpflag_ec'),\n",
       " (0.031079489262795478, 'koi_prad_err2'),\n",
       " (0.02911908593741275, 'koi_steff_err1'),\n",
       " (0.028402200821341324, 'koi_steff_err2'),\n",
       " (0.023436837320198696, 'koi_duration'),\n",
       " (0.022805862170198067, 'koi_time0bk_err2'),\n",
       " (0.022623984903608695, 'koi_time0bk_err1'),\n",
       " (0.021448984886314793, 'koi_depth'),\n",
       " (0.02133429607559118, 'koi_period'),\n",
       " (0.0184707627653909, 'koi_insol_err1'),\n",
       " (0.018112917032699176, 'koi_teq'),\n",
       " (0.01679781372571654, 'koi_impact'),\n",
       " (0.016386561936601526, 'koi_period_err2'),\n",
       " (0.01605193563774088, 'koi_period_err1'),\n",
       " (0.013714964534352241, 'koi_insol'),\n",
       " (0.013567964304707083, 'koi_depth_err1'),\n",
       " (0.013422981167380806, 'koi_time0bk'),\n",
       " (0.01296338461419973, 'koi_depth_err2'),\n",
       " (0.012373690454507867, 'koi_srad_err1'),\n",
       " (0.01236896245587007, 'ra'),\n",
       " (0.011345975731608792, 'koi_impact_err1'),\n",
       " (0.010969780194815428, 'dec'),\n",
       " (0.010943591447747042, 'koi_insol_err2'),\n",
       " (0.010829059344499466, 'koi_slogg_err2'),\n",
       " (0.010821756845307472, 'koi_kepmag'),\n",
       " (0.01035713987740833, 'koi_impact_err2'),\n",
       " (0.009983332818258576, 'koi_steff'),\n",
       " (0.009808925487974645, 'koi_srad'),\n",
       " (0.00926603334452728, 'koi_slogg'),\n",
       " (0.008489786919292032, 'koi_slogg_err1'),\n",
       " (0.008476353822222542, 'koi_srad_err2'),\n",
       " (0.002415557514745542, 'koi_tce_plnt_num')]"
      ]
     },
     "metadata": {},
     "execution_count": 11
    }
   ],
   "source": [
    "# Sort the feature importance in descending value\n",
    "sorted(zip(rf.feature_importances_, X_train_all), reverse=True)"
   ]
  },
  {
   "cell_type": "code",
   "execution_count": 12,
   "metadata": {},
   "outputs": [
    {
     "output_type": "stream",
     "name": "stdout",
     "text": [
      "Training Score: 0.9996185390043868\nTesting Score: 0.8632723112128147\n"
     ]
    }
   ],
   "source": [
    "# It looks like we have similar features at the top and similar test scores for both runs so we will pick the top 5 features from our original set and retrain the model again to see if we can get an improved score\n",
    "\n",
    "# Set the new features for x\n",
    "X = new_df[[\"koi_fpflag_nt\",\"koi_fpflag_co\", \"koi_fpflag_ss\", \"koi_model_snr\", \"koi_fpflag_ec\", \"koi_impact\"]].copy()\n",
    "\n",
    "# Create the training and testing data with a random state for repeatability\n",
    "X_train, X_test, y_train, y_test = train_test_split(X, y, random_state=250)\n",
    "\n",
    "# Create a MinMaxScalar model and fit it to the training data\n",
    "X_scaler = MinMaxScaler().fit(X_train)\n",
    "\n",
    "# Transform the training and testing data with the scaler models\n",
    "X_train_scaled = X_scaler.transform(X_train)\n",
    "X_test_scaled = X_scaler.transform(X_test)\n",
    "\n",
    "# Use RandomForestClassifier to create a model with the training data and score the test data\n",
    "rf = RandomForestClassifier(n_estimators=200)\n",
    "rf.fit(X_train_scaled, y_train)\n",
    "\n",
    "print(f'Training Score: {rf.score(X_train_scaled, y_train)}')\n",
    "print(f'Testing Score: {rf.score(X_test_scaled, y_test)}')"
   ]
  },
  {
   "cell_type": "markdown",
   "metadata": {},
   "source": [
    "# Hyperparameter Tuning\n",
    "\n",
    "Use `GridSearchCV` to tune the model's parameters"
   ]
  },
  {
   "cell_type": "code",
   "execution_count": 13,
   "metadata": {},
   "outputs": [],
   "source": [
    "# Create the GridSearchCV model\n",
    "from sklearn.model_selection import GridSearchCV\n",
    "param_grid = {'n_estimators': [10, 50, 100, 250],\n",
    "              'max_depth': [5, 10, 20, 50]}\n",
    "grid = GridSearchCV(rf,param_grid, verbose=3)"
   ]
  },
  {
   "cell_type": "code",
   "execution_count": 14,
   "metadata": {},
   "outputs": [
    {
     "output_type": "stream",
     "name": "stdout",
     "text": [
      "Fitting 5 folds for each of 16 candidates, totalling 80 fits\n",
      "[CV] max_depth=5, n_estimators=10 ....................................\n",
      "[CV] ........ max_depth=5, n_estimators=10, score=0.895, total=   0.1s\n",
      "[CV] max_depth=5, n_estimators=10 ....................................\n",
      "[CV] ........ max_depth=5, n_estimators=10, score=0.855, total=   0.1s\n",
      "[CV] max_depth=5, n_estimators=10 ....................................\n",
      "[CV] ........ max_depth=5, n_estimators=10, score=0.880, total=   0.0s\n",
      "[CV] max_depth=5, n_estimators=10 ....................................\n",
      "[Parallel(n_jobs=1)]: Using backend SequentialBackend with 1 concurrent workers.\n",
      "[Parallel(n_jobs=1)]: Done   1 out of   1 | elapsed:    0.0s remaining:    0.0s\n",
      "[Parallel(n_jobs=1)]: Done   2 out of   2 | elapsed:    0.0s remaining:    0.0s\n",
      "[CV] ........ max_depth=5, n_estimators=10, score=0.898, total=   0.0s\n",
      "[CV] max_depth=5, n_estimators=10 ....................................\n",
      "[CV] ........ max_depth=5, n_estimators=10, score=0.889, total=   0.0s\n",
      "[CV] max_depth=5, n_estimators=50 ....................................\n",
      "[CV] ........ max_depth=5, n_estimators=50, score=0.894, total=   0.2s\n",
      "[CV] max_depth=5, n_estimators=50 ....................................\n",
      "[CV] ........ max_depth=5, n_estimators=50, score=0.862, total=   0.2s\n",
      "[CV] max_depth=5, n_estimators=50 ....................................\n",
      "[CV] ........ max_depth=5, n_estimators=50, score=0.874, total=   0.2s\n",
      "[CV] max_depth=5, n_estimators=50 ....................................\n",
      "[CV] ........ max_depth=5, n_estimators=50, score=0.902, total=   0.2s\n",
      "[CV] max_depth=5, n_estimators=50 ....................................\n",
      "[CV] ........ max_depth=5, n_estimators=50, score=0.885, total=   0.2s\n",
      "[CV] max_depth=5, n_estimators=100 ...................................\n",
      "[CV] ....... max_depth=5, n_estimators=100, score=0.896, total=   0.3s\n",
      "[CV] max_depth=5, n_estimators=100 ...................................\n",
      "[CV] ....... max_depth=5, n_estimators=100, score=0.861, total=   0.4s\n",
      "[CV] max_depth=5, n_estimators=100 ...................................\n",
      "[CV] ....... max_depth=5, n_estimators=100, score=0.884, total=   0.4s\n",
      "[CV] max_depth=5, n_estimators=100 ...................................\n",
      "[CV] ....... max_depth=5, n_estimators=100, score=0.902, total=   0.3s\n",
      "[CV] max_depth=5, n_estimators=100 ...................................\n",
      "[CV] ....... max_depth=5, n_estimators=100, score=0.882, total=   0.3s\n",
      "[CV] max_depth=5, n_estimators=250 ...................................\n",
      "[CV] ....... max_depth=5, n_estimators=250, score=0.894, total=   0.8s\n",
      "[CV] max_depth=5, n_estimators=250 ...................................\n",
      "[CV] ....... max_depth=5, n_estimators=250, score=0.862, total=   1.0s\n",
      "[CV] max_depth=5, n_estimators=250 ...................................\n",
      "[CV] ....... max_depth=5, n_estimators=250, score=0.878, total=   0.9s\n",
      "[CV] max_depth=5, n_estimators=250 ...................................\n",
      "[CV] ....... max_depth=5, n_estimators=250, score=0.902, total=   0.9s\n",
      "[CV] max_depth=5, n_estimators=250 ...................................\n",
      "[CV] ....... max_depth=5, n_estimators=250, score=0.883, total=   0.8s\n",
      "[CV] max_depth=10, n_estimators=10 ...................................\n",
      "[CV] ....... max_depth=10, n_estimators=10, score=0.894, total=   0.0s\n",
      "[CV] max_depth=10, n_estimators=10 ...................................\n",
      "[CV] ....... max_depth=10, n_estimators=10, score=0.870, total=   0.0s\n",
      "[CV] max_depth=10, n_estimators=10 ...................................\n",
      "[CV] ....... max_depth=10, n_estimators=10, score=0.877, total=   0.0s\n",
      "[CV] max_depth=10, n_estimators=10 ...................................\n",
      "[CV] ....... max_depth=10, n_estimators=10, score=0.894, total=   0.0s\n",
      "[CV] max_depth=10, n_estimators=10 ...................................\n",
      "[CV] ....... max_depth=10, n_estimators=10, score=0.887, total=   0.0s\n",
      "[CV] max_depth=10, n_estimators=50 ...................................\n",
      "[CV] ....... max_depth=10, n_estimators=50, score=0.901, total=   0.2s\n",
      "[CV] max_depth=10, n_estimators=50 ...................................\n",
      "[CV] ....... max_depth=10, n_estimators=50, score=0.868, total=   0.2s\n",
      "[CV] max_depth=10, n_estimators=50 ...................................\n",
      "[CV] ....... max_depth=10, n_estimators=50, score=0.880, total=   0.2s\n",
      "[CV] max_depth=10, n_estimators=50 ...................................\n",
      "[CV] ....... max_depth=10, n_estimators=50, score=0.892, total=   0.2s\n",
      "[CV] max_depth=10, n_estimators=50 ...................................\n",
      "[CV] ....... max_depth=10, n_estimators=50, score=0.895, total=   0.3s\n",
      "[CV] max_depth=10, n_estimators=100 ..................................\n",
      "[CV] ...... max_depth=10, n_estimators=100, score=0.900, total=   0.6s\n",
      "[CV] max_depth=10, n_estimators=100 ..................................\n",
      "[CV] ...... max_depth=10, n_estimators=100, score=0.869, total=   0.6s\n",
      "[CV] max_depth=10, n_estimators=100 ..................................\n",
      "[CV] ...... max_depth=10, n_estimators=100, score=0.883, total=   0.5s\n",
      "[CV] max_depth=10, n_estimators=100 ..................................\n",
      "[CV] ...... max_depth=10, n_estimators=100, score=0.893, total=   0.7s\n",
      "[CV] max_depth=10, n_estimators=100 ..................................\n",
      "[CV] ...... max_depth=10, n_estimators=100, score=0.894, total=   0.7s\n",
      "[CV] max_depth=10, n_estimators=250 ..................................\n",
      "[CV] ...... max_depth=10, n_estimators=250, score=0.898, total=   1.7s\n",
      "[CV] max_depth=10, n_estimators=250 ..................................\n",
      "[CV] ...... max_depth=10, n_estimators=250, score=0.869, total=   1.5s\n",
      "[CV] max_depth=10, n_estimators=250 ..................................\n",
      "[CV] ...... max_depth=10, n_estimators=250, score=0.884, total=   1.5s\n",
      "[CV] max_depth=10, n_estimators=250 ..................................\n",
      "[CV] ...... max_depth=10, n_estimators=250, score=0.894, total=   1.4s\n",
      "[CV] max_depth=10, n_estimators=250 ..................................\n",
      "[CV] ...... max_depth=10, n_estimators=250, score=0.892, total=   1.4s\n",
      "[CV] max_depth=20, n_estimators=10 ...................................\n",
      "[CV] ....... max_depth=20, n_estimators=10, score=0.876, total=   0.1s\n",
      "[CV] max_depth=20, n_estimators=10 ...................................\n",
      "[CV] ....... max_depth=20, n_estimators=10, score=0.864, total=   0.1s\n",
      "[CV] max_depth=20, n_estimators=10 ...................................\n",
      "[CV] ....... max_depth=20, n_estimators=10, score=0.860, total=   0.1s\n",
      "[CV] max_depth=20, n_estimators=10 ...................................\n",
      "[CV] ....... max_depth=20, n_estimators=10, score=0.873, total=   0.1s\n",
      "[CV] max_depth=20, n_estimators=10 ...................................\n",
      "[CV] ....... max_depth=20, n_estimators=10, score=0.885, total=   0.1s\n",
      "[CV] max_depth=20, n_estimators=50 ...................................\n",
      "[CV] ....... max_depth=20, n_estimators=50, score=0.878, total=   0.3s\n",
      "[CV] max_depth=20, n_estimators=50 ...................................\n",
      "[CV] ....... max_depth=20, n_estimators=50, score=0.870, total=   0.4s\n",
      "[CV] max_depth=20, n_estimators=50 ...................................\n",
      "[CV] ....... max_depth=20, n_estimators=50, score=0.867, total=   0.4s\n",
      "[CV] max_depth=20, n_estimators=50 ...................................\n",
      "[CV] ....... max_depth=20, n_estimators=50, score=0.876, total=   0.3s\n",
      "[CV] max_depth=20, n_estimators=50 ...................................\n",
      "[CV] ....... max_depth=20, n_estimators=50, score=0.884, total=   0.3s\n",
      "[CV] max_depth=20, n_estimators=100 ..................................\n",
      "[CV] ...... max_depth=20, n_estimators=100, score=0.877, total=   0.8s\n",
      "[CV] max_depth=20, n_estimators=100 ..................................\n",
      "[CV] ...... max_depth=20, n_estimators=100, score=0.870, total=   0.7s\n",
      "[CV] max_depth=20, n_estimators=100 ..................................\n",
      "[CV] ...... max_depth=20, n_estimators=100, score=0.860, total=   0.7s\n",
      "[CV] max_depth=20, n_estimators=100 ..................................\n",
      "[CV] ...... max_depth=20, n_estimators=100, score=0.885, total=   0.7s\n",
      "[CV] max_depth=20, n_estimators=100 ..................................\n",
      "[CV] ...... max_depth=20, n_estimators=100, score=0.888, total=   0.7s\n",
      "[CV] max_depth=20, n_estimators=250 ..................................\n",
      "[CV] ...... max_depth=20, n_estimators=250, score=0.882, total=   1.8s\n",
      "[CV] max_depth=20, n_estimators=250 ..................................\n",
      "[CV] ...... max_depth=20, n_estimators=250, score=0.869, total=   1.7s\n",
      "[CV] max_depth=20, n_estimators=250 ..................................\n",
      "[CV] ...... max_depth=20, n_estimators=250, score=0.865, total=   1.7s\n",
      "[CV] max_depth=20, n_estimators=250 ..................................\n",
      "[CV] ...... max_depth=20, n_estimators=250, score=0.884, total=   1.7s\n",
      "[CV] max_depth=20, n_estimators=250 ..................................\n",
      "[CV] ...... max_depth=20, n_estimators=250, score=0.883, total=   1.9s\n",
      "[CV] max_depth=50, n_estimators=10 ...................................\n",
      "[CV] ....... max_depth=50, n_estimators=10, score=0.865, total=   0.1s\n",
      "[CV] max_depth=50, n_estimators=10 ...................................\n",
      "[CV] ....... max_depth=50, n_estimators=10, score=0.856, total=   0.1s\n",
      "[CV] max_depth=50, n_estimators=10 ...................................\n",
      "[CV] ....... max_depth=50, n_estimators=10, score=0.861, total=   0.1s\n",
      "[CV] max_depth=50, n_estimators=10 ...................................\n",
      "[CV] ....... max_depth=50, n_estimators=10, score=0.865, total=   0.1s\n",
      "[CV] max_depth=50, n_estimators=10 ...................................\n",
      "[CV] ....... max_depth=50, n_estimators=10, score=0.873, total=   0.1s\n",
      "[CV] max_depth=50, n_estimators=50 ...................................\n",
      "[CV] ....... max_depth=50, n_estimators=50, score=0.858, total=   0.4s\n",
      "[CV] max_depth=50, n_estimators=50 ...................................\n",
      "[CV] ....... max_depth=50, n_estimators=50, score=0.856, total=   0.4s\n",
      "[CV] max_depth=50, n_estimators=50 ...................................\n",
      "[CV] ....... max_depth=50, n_estimators=50, score=0.861, total=   0.4s\n",
      "[CV] max_depth=50, n_estimators=50 ...................................\n",
      "[CV] ....... max_depth=50, n_estimators=50, score=0.875, total=   0.4s\n",
      "[CV] max_depth=50, n_estimators=50 ...................................\n",
      "[CV] ....... max_depth=50, n_estimators=50, score=0.881, total=   0.4s\n",
      "[CV] max_depth=50, n_estimators=100 ..................................\n",
      "[CV] ...... max_depth=50, n_estimators=100, score=0.873, total=   0.8s\n",
      "[CV] max_depth=50, n_estimators=100 ..................................\n",
      "[CV] ...... max_depth=50, n_estimators=100, score=0.861, total=   0.8s\n",
      "[CV] max_depth=50, n_estimators=100 ..................................\n",
      "[CV] ...... max_depth=50, n_estimators=100, score=0.861, total=   0.8s\n",
      "[CV] max_depth=50, n_estimators=100 ..................................\n",
      "[CV] ...... max_depth=50, n_estimators=100, score=0.875, total=   0.7s\n",
      "[CV] max_depth=50, n_estimators=100 ..................................\n",
      "[CV] ...... max_depth=50, n_estimators=100, score=0.884, total=   0.7s\n",
      "[CV] max_depth=50, n_estimators=250 ..................................\n",
      "[CV] ...... max_depth=50, n_estimators=250, score=0.872, total=   1.8s\n",
      "[CV] max_depth=50, n_estimators=250 ..................................\n",
      "[CV] ...... max_depth=50, n_estimators=250, score=0.866, total=   1.7s\n",
      "[CV] max_depth=50, n_estimators=250 ..................................\n",
      "[CV] ...... max_depth=50, n_estimators=250, score=0.853, total=   1.7s\n",
      "[CV] max_depth=50, n_estimators=250 ..................................\n",
      "[CV] ...... max_depth=50, n_estimators=250, score=0.877, total=   1.7s\n",
      "[CV] max_depth=50, n_estimators=250 ..................................\n",
      "[CV] ...... max_depth=50, n_estimators=250, score=0.877, total=   1.7s\n",
      "[Parallel(n_jobs=1)]: Done  80 out of  80 | elapsed:   48.8s finished\n"
     ]
    },
    {
     "output_type": "execute_result",
     "data": {
      "text/plain": [
       "GridSearchCV(cv=None, error_score=nan,\n",
       "             estimator=RandomForestClassifier(bootstrap=True, ccp_alpha=0.0,\n",
       "                                              class_weight=None,\n",
       "                                              criterion='gini', max_depth=None,\n",
       "                                              max_features='auto',\n",
       "                                              max_leaf_nodes=None,\n",
       "                                              max_samples=None,\n",
       "                                              min_impurity_decrease=0.0,\n",
       "                                              min_impurity_split=None,\n",
       "                                              min_samples_leaf=1,\n",
       "                                              min_samples_split=2,\n",
       "                                              min_weight_fraction_leaf=0.0,\n",
       "                                              n_estimators=200, n_jobs=None,\n",
       "                                              oob_score=False,\n",
       "                                              random_state=None, verbose=0,\n",
       "                                              warm_start=False),\n",
       "             iid='deprecated', n_jobs=None,\n",
       "             param_grid={'max_depth': [5, 10, 20, 50],\n",
       "                         'n_estimators': [10, 50, 100, 250]},\n",
       "             pre_dispatch='2*n_jobs', refit=True, return_train_score=False,\n",
       "             scoring=None, verbose=3)"
      ]
     },
     "metadata": {},
     "execution_count": 14
    }
   ],
   "source": [
    "# Fit the model using the grid search estimator\n",
    "# This will take the RandomForest model and try each combination of parameters\n",
    "grid.fit(X_train_scaled, y_train)"
   ]
  },
  {
   "cell_type": "code",
   "execution_count": 15,
   "metadata": {},
   "outputs": [
    {
     "output_type": "stream",
     "name": "stdout",
     "text": [
      "{'max_depth': 10, 'n_estimators': 100}\n0.887852662295607\n"
     ]
    }
   ],
   "source": [
    "# Find the best parameters and corresponding score\n",
    "print(grid.best_params_)\n",
    "print(grid.best_score_)"
   ]
  },
  {
   "cell_type": "code",
   "execution_count": 16,
   "metadata": {},
   "outputs": [
    {
     "output_type": "stream",
     "name": "stdout",
     "text": [
      "Training Score: 0.9038718291054739\n",
      "Testing Score: 0.8861556064073226\n"
     ]
    }
   ],
   "source": [
    "# Check the training and testing scores\n",
    "print(f'Training Score: {grid.score(X_train_scaled, y_train)}')\n",
    "grid.predict(X_test_scaled)\n",
    "print(f'Testing Score: {grid.score(X_test_scaled, y_test)}')"
   ]
  },
  {
   "cell_type": "markdown",
   "metadata": {},
   "source": [
    "# Save the Model"
   ]
  },
  {
   "cell_type": "code",
   "execution_count": 17,
   "metadata": {},
   "outputs": [
    {
     "output_type": "execute_result",
     "data": {
      "text/plain": [
       "['Autonomousse_RandomForest.sav']"
      ]
     },
     "metadata": {},
     "execution_count": 17
    }
   ],
   "source": [
    "import joblib\n",
    "filename = 'Autonomousse_RandomForest.sav'\n",
    "joblib.dump(rf, filename)"
   ]
  }
 ],
 "metadata": {
  "kernel_info": {
   "name": "dev"
  },
  "kernelspec": {
   "name": "Python 3.6.10 64-bit ('PythonData': conda)",
   "display_name": "Python 3.6.10 64-bit ('PythonData': conda)",
   "metadata": {
    "interpreter": {
     "hash": "0942bca1281fabf0b435d4dae18dffc66bb5293520598f67206b4087fe324d13"
    }
   }
  },
  "language_info": {
   "codemirror_mode": {
    "name": "ipython",
    "version": 3
   },
   "file_extension": ".py",
   "mimetype": "text/x-python",
   "name": "python",
   "nbconvert_exporter": "python",
   "pygments_lexer": "ipython3",
   "version": "3.6.10-final"
  },
  "nteract": {
   "version": "0.12.3"
  }
 },
 "nbformat": 4,
 "nbformat_minor": 2
}